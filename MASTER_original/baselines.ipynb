{
 "cells": [
  {
   "cell_type": "markdown",
   "id": "be7c211c",
   "metadata": {},
   "source": [
    "File to compute the baselines with skitlearn"
   ]
  },
  {
   "cell_type": "markdown",
   "id": "d4b2e001",
   "metadata": {},
   "source": []
  },
  {
   "cell_type": "code",
   "execution_count": 1,
   "id": "f5da0fe7",
   "metadata": {},
   "outputs": [
    {
     "name": "stdout",
     "output_type": "stream",
     "text": [
      "856246 20039 185700\n"
     ]
    }
   ],
   "source": [
    "# from master import MASTERModel\n",
    "import pickle\n",
    "import numpy as np\n",
    "import time\n",
    "import os\n",
    "\n",
    "# Please install qlib first before load the data.\n",
    "\n",
    "universe = 'csi300' # ['csi300','csi800']\n",
    "prefix = 'opensource' # ['original','opensource'], which training data are you using\n",
    "train_data_dir = 'data'\n",
    "with open(os.path.join(train_data_dir, prefix, f\"{universe}_dl_train.pkl\"), 'rb') as f:\n",
    "    dl_train = pickle.load(f)\n",
    "\n",
    "predict_data_dir = os.path.join('data', prefix)\n",
    "with open(os.path.join(predict_data_dir, f\"{universe}_dl_valid.pkl\"), 'rb') as f:\n",
    "    dl_valid = pickle.load(f)\n",
    "with open(os.path.join(predict_data_dir, f\"{universe}_dl_test.pkl\"), 'rb') as f:\n",
    "    dl_test = pickle.load(f)\n",
    "\n",
    "\n",
    "print(len(dl_train), len(dl_valid), len(dl_test))"
   ]
  },
  {
   "cell_type": "code",
   "execution_count": 4,
   "id": "60c36393",
   "metadata": {},
   "outputs": [
    {
     "name": "stdout",
     "output_type": "stream",
     "text": [
      "Sample shape: (8, 222)\n",
      "Number of features: 222\n"
     ]
    }
   ],
   "source": [
    "# grab the very first sample\n",
    "sample = dl_train[0]\n",
    "\n",
    "# this will print something like (step_len, num_features)\n",
    "print(\"Sample shape:\", sample.shape)\n",
    "\n",
    "# so the number of features is the second entry:\n",
    "print(\"Number of features:\", sample.shape[1])\n"
   ]
  }
 ],
 "metadata": {
  "kernelspec": {
   "display_name": "gabri_master",
   "language": "python",
   "name": "python3"
  },
  "language_info": {
   "codemirror_mode": {
    "name": "ipython",
    "version": 3
   },
   "file_extension": ".py",
   "mimetype": "text/x-python",
   "name": "python",
   "nbconvert_exporter": "python",
   "pygments_lexer": "ipython3",
   "version": "3.11.11"
  }
 },
 "nbformat": 4,
 "nbformat_minor": 5
}
