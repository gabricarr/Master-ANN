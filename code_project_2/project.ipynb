{
 "cells": [
  {
   "cell_type": "markdown",
   "id": "064832fa",
   "metadata": {},
   "source": [
    "## Project plan"
   ]
  },
  {
   "cell_type": "markdown",
   "id": "30c9132b",
   "metadata": {},
   "source": [
    "This is a plan for a simpler project that does not use the full master architecture, but just adopts part of it\n"
   ]
  },
  {
   "cell_type": "markdown",
   "id": "85440ea3",
   "metadata": {},
   "source": [
    "We implement the architecture of stock_former but now we add a gating mechanism like in master by using the market infor data"
   ]
  },
  {
   "cell_type": "markdown",
   "id": "783bed4d",
   "metadata": {},
   "source": []
  }
 ],
 "metadata": {
  "language_info": {
   "name": "python"
  }
 },
 "nbformat": 4,
 "nbformat_minor": 5
}
