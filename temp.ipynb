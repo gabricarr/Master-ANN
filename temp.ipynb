{
 "cells": [
  {
   "cell_type": "markdown",
   "id": "be7c211c",
   "metadata": {},
   "source": [
    "unzip data\n"
   ]
  },
  {
   "cell_type": "markdown",
   "id": "d4b2e001",
   "metadata": {},
   "source": []
  }
 ],
 "metadata": {
  "language_info": {
   "name": "python"
  }
 },
 "nbformat": 4,
 "nbformat_minor": 5
}
