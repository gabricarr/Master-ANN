{
 "cells": [
  {
   "cell_type": "markdown",
   "id": "be7c211c",
   "metadata": {},
   "source": [
    "File to compute the baselines with skitlearn"
   ]
  },
  {
   "cell_type": "markdown",
   "id": "d4b2e001",
   "metadata": {},
   "source": []
  }
 ],
 "metadata": {
  "language_info": {
   "name": "python"
  }
 },
 "nbformat": 4,
 "nbformat_minor": 5
}
