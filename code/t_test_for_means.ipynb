{
  "nbformat": 4,
  "nbformat_minor": 0,
  "metadata": {
    "colab": {
      "provenance": []
    },
    "kernelspec": {
      "name": "python3",
      "display_name": "Python 3"
    },
    "language_info": {
      "name": "python"
    }
  },
  "cells": [
    {
      "cell_type": "code",
      "source": [
        "import scipy.stats as stats\n",
        "import numpy as np\n",
        "import pandas as pd\n",
        "\n",
        "# Function to estimate standard deviation from CI and sample size\n",
        "def ci_to_std(ci_half_width, n, confidence=0.95):\n",
        "    df = 2 * (n - 1)\n",
        "    t_value = stats.t.ppf((1 + confidence) / 2., df)\n",
        "    return (ci_half_width * np.sqrt(n)) / t_value\n",
        "\n",
        "# Provided data\n",
        "n = 100\n",
        "\n",
        "metrics = {\n",
        "    'IC': {'without': (0.173, 0.002), 'with': (0.197, 0.002)},\n",
        "    'ICIR': {'without': (1.982, 0.117), 'with': (2.157, 0.097)},\n",
        "    'RIC': {'without': (0.188, 0.002), 'with': (0.202, 0.002)},\n",
        "    'RICIR': {'without': (2.387, 0.184), 'with': (2.411, 0.115)},\n",
        "    'AR': {'without': (0.240, 0.002), 'with': (0.242, 0.003)},\n",
        "    'IR': {'without': (0.464, 0.006), 'with': (0.485, 0.006)},\n",
        "}\n",
        "\n",
        "results = []\n",
        "\n",
        "for metric, values in metrics.items():\n",
        "    mean1, ci1 = values['without']\n",
        "    mean2, ci2 = values['with']\n",
        "\n",
        "    std1 = ci_to_std(ci1, n)\n",
        "    std2 = ci_to_std(ci2, n)\n",
        "\n",
        "    # Perform Welch's t-test (unequal variance)\n",
        "    t_stat, p_val = stats.ttest_ind_from_stats(\n",
        "        mean1=mean1, std1=std1, nobs1=n,\n",
        "        mean2=mean2, std2=std2, nobs2=n,\n",
        "        equal_var=False\n",
        "    )\n",
        "\n",
        "    results.append({\n",
        "        'Metric': metric,\n",
        "        'Mean_Without': mean1,\n",
        "        'Mean_With': mean2,\n",
        "        't-value': t_stat,\n",
        "        'p-value': p_val,\n",
        "        'Significant (p < 0.05)': p_val < 0.05\n",
        "    })\n",
        "\n",
        "# Display as a DataFrame\n",
        "df_results = pd.DataFrame(results)\n",
        "print(df_results)\n",
        "\n"
      ],
      "metadata": {
        "colab": {
          "base_uri": "https://localhost:8080/"
        },
        "id": "IVsFfEE5GTve",
        "outputId": "ad0bb98e-576f-4296-abc2-122b8c321cad"
      },
      "execution_count": 7,
      "outputs": [
        {
          "output_type": "stream",
          "name": "stdout",
          "text": [
            "  Metric  Mean_Without  Mean_With    t-value       p-value  \\\n",
            "0     IC         0.173      0.197 -16.733123  9.427520e-40   \n",
            "1   ICIR         1.982      2.157  -2.270710  2.427801e-02   \n",
            "2    RIC         0.188      0.202  -9.760989  1.265169e-18   \n",
            "3  RICIR         2.387      2.411  -0.218122  8.276019e-01   \n",
            "4     AR         0.240      0.242  -1.093878  2.755336e-01   \n",
            "5     IR         0.464      0.485  -4.880494  2.172901e-06   \n",
            "\n",
            "   Significant (p < 0.05)  \n",
            "0                    True  \n",
            "1                    True  \n",
            "2                    True  \n",
            "3                   False  \n",
            "4                   False  \n",
            "5                    True  \n"
          ]
        }
      ]
    },
    {
      "cell_type": "code",
      "source": [],
      "metadata": {
        "id": "qmPADRjcGTsn"
      },
      "execution_count": null,
      "outputs": []
    },
    {
      "cell_type": "code",
      "source": [],
      "metadata": {
        "id": "WdPEvISdGTqf"
      },
      "execution_count": null,
      "outputs": []
    },
    {
      "cell_type": "code",
      "source": [],
      "metadata": {
        "id": "EuH-FP6jGTob"
      },
      "execution_count": null,
      "outputs": []
    },
    {
      "cell_type": "code",
      "source": [],
      "metadata": {
        "id": "wETUuSVDGTmE"
      },
      "execution_count": null,
      "outputs": []
    },
    {
      "cell_type": "code",
      "source": [],
      "metadata": {
        "id": "1sumBWhDGTjm"
      },
      "execution_count": null,
      "outputs": []
    },
    {
      "cell_type": "code",
      "source": [],
      "metadata": {
        "id": "hKaKJ-QBGThG"
      },
      "execution_count": null,
      "outputs": []
    },
    {
      "cell_type": "code",
      "source": [],
      "metadata": {
        "id": "AAcCTBlrGTec"
      },
      "execution_count": null,
      "outputs": []
    },
    {
      "cell_type": "code",
      "source": [],
      "metadata": {
        "id": "12kRYDfyGTbu"
      },
      "execution_count": null,
      "outputs": []
    },
    {
      "cell_type": "code",
      "source": [],
      "metadata": {
        "id": "1OM4XhkUGTZY"
      },
      "execution_count": null,
      "outputs": []
    },
    {
      "cell_type": "code",
      "source": [],
      "metadata": {
        "id": "gie2oSL8GTXI"
      },
      "execution_count": null,
      "outputs": []
    },
    {
      "cell_type": "code",
      "source": [],
      "metadata": {
        "id": "b_kCqdcSGTUL"
      },
      "execution_count": null,
      "outputs": []
    }
  ]
}