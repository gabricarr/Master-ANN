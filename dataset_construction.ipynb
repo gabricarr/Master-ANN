{
 "cells": [
  {
   "cell_type": "markdown",
   "id": "500444bd",
   "metadata": {},
   "source": [
    "Dataset to use:\n",
    "https://www.kaggle.com/datasets/paultimothymooney/stock-market-data"
   ]
  },
  {
   "cell_type": "markdown",
   "id": "b38da795",
   "metadata": {},
   "source": [
    "A site to get thechnical indicators from:\n",
    "https://www.investopedia.com/articles/active-trading/011815/top-technical-indicators-rookie-traders.asp?utm_source=chatgpt.com"
   ]
  },
  {
   "cell_type": "markdown",
   "id": "54f3e0bb",
   "metadata": {},
   "source": [
    "Piano:\n",
    "- Trovare indicatori da usare su una singola stock\n",
    "- Trovare indicatori da usare su tutto l indice (più semplici come mean e std sull ultimo dato e una window di 5, 10, 20) per esempio:\n",
    "    - Market index price\n",
    "    - Market index trading volume\n",
    "- Creare un nuovo dataset che usa questi indicatori"
   ]
  },
  {
   "cell_type": "markdown",
   "id": "260652db",
   "metadata": {},
   "source": [
    "Libreria da usare: pandas‑ta\n",
    "- contiene 130 indicatori già fatti (usarne una 50ina)\n",
    "\n",
    "\n",
    "Chat per spunto:\n",
    "https://chatgpt.com/share/681e1a2a-a944-8013-834e-2ef66c01417b"
   ]
  },
  {
   "cell_type": "markdown",
   "id": "a7a7157a",
   "metadata": {},
   "source": []
  }
 ],
 "metadata": {
  "language_info": {
   "name": "python"
  }
 },
 "nbformat": 4,
 "nbformat_minor": 5
}
