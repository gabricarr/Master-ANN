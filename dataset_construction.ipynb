{
 "cells": [
  {
   "cell_type": "markdown",
   "id": "500444bd",
   "metadata": {},
   "source": [
    "Dataset to use:\n",
    "https://www.kaggle.com/datasets/paultimothymooney/stock-market-data"
   ]
  },
  {
   "cell_type": "markdown",
   "id": "b38da795",
   "metadata": {},
   "source": [
    "A site to get thechnical indicators from:\n",
    "https://www.investopedia.com/articles/active-trading/011815/top-technical-indicators-rookie-traders.asp?utm_source=chatgpt.com"
   ]
  },
  {
   "cell_type": "markdown",
   "id": "54f3e0bb",
   "metadata": {},
   "source": [
    "Piano:\n",
    "- Trovare indicatori da usare su una singola stock\n",
    "- Trovare indicatori da usare su tutto l indice (più semplici come mean e std sull ultimo dato e una window di 5, 10, 20) per esempio:\n",
    "    - Market index price\n",
    "    - Market index trading volume\n",
    "- Creare un nuovo dataset che usa questi indicatori"
   ]
  },
  {
   "cell_type": "markdown",
   "id": "260652db",
   "metadata": {},
   "source": [
    "Libreria da usare: pandas‑ta\n",
    "- contiene 130 indicatori già fatti (usarne una 50ina)\n",
    "\n",
    "\n",
    "Chat per spunto:\n",
    "https://chatgpt.com/share/681e1a2a-a944-8013-834e-2ef66c01417b"
   ]
  },
  {
   "cell_type": "markdown",
   "id": "a822df85",
   "metadata": {},
   "source": [
    "# Dataset Creation"
   ]
  },
  {
   "cell_type": "markdown",
   "id": "c2706dd2",
   "metadata": {},
   "source": [
    "In this notebook we download our data from kaggle and then augment it with classic technical analysis indicators.\n",
    "We will use pandas-ta, an extension of pandas for Technical Analysis. \n",
    "\n",
    "It is a Numerical Time Series Feature Generator where the Time Series data is biased towards Financial Market data; typical data includes columns named :\"open\", \"high\", \"low\", \"close\", \"volume\"."
   ]
  },
  {
   "cell_type": "code",
   "execution_count": 8,
   "id": "48c5fb33",
   "metadata": {},
   "outputs": [],
   "source": [
    "# import kagglehub\n",
    "\n",
    "# # Download latest version\n",
    "# path = kagglehub.dataset_download(\"paultimothymooney/stock-market-data\")\n",
    "\n",
    "# print(\"Path to dataset files:\", path)"
   ]
  },
  {
   "cell_type": "markdown",
   "id": "a7a7157a",
   "metadata": {},
   "source": [
    "## Basic Guide"
   ]
  },
  {
   "cell_type": "code",
   "execution_count": 1,
   "id": "b96d9c57",
   "metadata": {},
   "outputs": [],
   "source": [
    "import numpy as np\n",
    "# re–add the old alias so pandas_ta can import it\n",
    "if not hasattr(np, \"NaN\"):\n",
    "    np.NaN = np.nan     # Needed by pandas_ta\n",
    "\n",
    "import pandas as pd\n",
    "import pandas_ta as ta\n",
    "\n",
    "df = pd.DataFrame() # Empty DataFrame\n",
    "\n",
    "# Load data\n",
    "df = pd.read_csv(\"data/nasdaq/csv/AAL.csv\", sep=\",\")\n",
    "# OR if you have yfinance installed\n",
    "# df = df.ta.ticker(\"aapl\")\n",
    "\n"
   ]
  },
  {
   "cell_type": "code",
   "execution_count": 2,
   "id": "0a3a097e",
   "metadata": {},
   "outputs": [
    {
     "name": "stdout",
     "output_type": "stream",
     "text": [
      "<class 'pandas.core.frame.DataFrame'>\n",
      "RangeIndex: 4333 entries, 0 to 4332\n",
      "Data columns (total 7 columns):\n",
      " #   Column          Non-Null Count  Dtype  \n",
      "---  ------          --------------  -----  \n",
      " 0   Date            4333 non-null   object \n",
      " 1   Low             4333 non-null   float64\n",
      " 2   Open            4333 non-null   float64\n",
      " 3   Volume          4333 non-null   int64  \n",
      " 4   High            4333 non-null   float64\n",
      " 5   Close           4333 non-null   float64\n",
      " 6   Adjusted Close  4333 non-null   float64\n",
      "dtypes: float64(5), int64(1), object(1)\n",
      "memory usage: 237.1+ KB\n",
      "None\n",
      "         Date        Low       Open   Volume       High      Close  \\\n",
      "0  27-09-2005  19.100000  21.049999   961200  21.400000  19.299999   \n",
      "1  28-09-2005  19.200001  19.299999  5747900  20.530001  20.500000   \n",
      "2  29-09-2005  20.100000  20.400000  1078200  20.580000  20.209999   \n",
      "3  30-09-2005  20.180000  20.260000  3123300  21.049999  21.010000   \n",
      "4  03-10-2005  20.900000  20.900000  1057900  21.750000  21.500000   \n",
      "\n",
      "   Adjusted Close  \n",
      "0       18.194910  \n",
      "1       19.326204  \n",
      "2       19.052805  \n",
      "3       19.807001  \n",
      "4       20.268940  \n"
     ]
    }
   ],
   "source": [
    "# Print DataFrame structure\n",
    "print(df.info())\n",
    "print(df.head())"
   ]
  },
  {
   "cell_type": "code",
   "execution_count": 3,
   "id": "d4e8961d",
   "metadata": {},
   "outputs": [
    {
     "data": {
      "text/html": [
       "<div>\n",
       "<style scoped>\n",
       "    .dataframe tbody tr th:only-of-type {\n",
       "        vertical-align: middle;\n",
       "    }\n",
       "\n",
       "    .dataframe tbody tr th {\n",
       "        vertical-align: top;\n",
       "    }\n",
       "\n",
       "    .dataframe thead th {\n",
       "        text-align: right;\n",
       "    }\n",
       "</style>\n",
       "<table border=\"1\" class=\"dataframe\">\n",
       "  <thead>\n",
       "    <tr style=\"text-align: right;\">\n",
       "      <th></th>\n",
       "      <th>Low</th>\n",
       "      <th>Open</th>\n",
       "      <th>Volume</th>\n",
       "      <th>High</th>\n",
       "      <th>Close</th>\n",
       "      <th>Adjusted Close</th>\n",
       "      <th>CUMLOGRET_1</th>\n",
       "      <th>CUMPCTRET_1</th>\n",
       "    </tr>\n",
       "    <tr>\n",
       "      <th>Date</th>\n",
       "      <th></th>\n",
       "      <th></th>\n",
       "      <th></th>\n",
       "      <th></th>\n",
       "      <th></th>\n",
       "      <th></th>\n",
       "      <th></th>\n",
       "      <th></th>\n",
       "    </tr>\n",
       "  </thead>\n",
       "  <tbody>\n",
       "    <tr>\n",
       "      <th>2022-06-12</th>\n",
       "      <td>14.00</td>\n",
       "      <td>14.14</td>\n",
       "      <td>20781500</td>\n",
       "      <td>14.34</td>\n",
       "      <td>14.330</td>\n",
       "      <td>14.330</td>\n",
       "      <td>-0.297750</td>\n",
       "      <td>-0.257513</td>\n",
       "    </tr>\n",
       "    <tr>\n",
       "      <th>2022-07-12</th>\n",
       "      <td>13.53</td>\n",
       "      <td>14.24</td>\n",
       "      <td>28161400</td>\n",
       "      <td>14.24</td>\n",
       "      <td>13.550</td>\n",
       "      <td>13.550</td>\n",
       "      <td>-0.353718</td>\n",
       "      <td>-0.297927</td>\n",
       "    </tr>\n",
       "    <tr>\n",
       "      <th>2022-08-12</th>\n",
       "      <td>13.38</td>\n",
       "      <td>13.65</td>\n",
       "      <td>25300900</td>\n",
       "      <td>13.80</td>\n",
       "      <td>13.600</td>\n",
       "      <td>13.600</td>\n",
       "      <td>-0.350035</td>\n",
       "      <td>-0.295337</td>\n",
       "    </tr>\n",
       "    <tr>\n",
       "      <th>2022-09-12</th>\n",
       "      <td>13.42</td>\n",
       "      <td>13.52</td>\n",
       "      <td>18489800</td>\n",
       "      <td>13.66</td>\n",
       "      <td>13.530</td>\n",
       "      <td>13.530</td>\n",
       "      <td>-0.355196</td>\n",
       "      <td>-0.298964</td>\n",
       "    </tr>\n",
       "    <tr>\n",
       "      <th>2022-12-12</th>\n",
       "      <td>13.45</td>\n",
       "      <td>13.49</td>\n",
       "      <td>8048550</td>\n",
       "      <td>13.93</td>\n",
       "      <td>13.915</td>\n",
       "      <td>13.915</td>\n",
       "      <td>-0.327138</td>\n",
       "      <td>-0.279016</td>\n",
       "    </tr>\n",
       "  </tbody>\n",
       "</table>\n",
       "</div>"
      ],
      "text/plain": [
       "              Low   Open    Volume   High   Close  Adjusted Close  \\\n",
       "Date                                                                \n",
       "2022-06-12  14.00  14.14  20781500  14.34  14.330          14.330   \n",
       "2022-07-12  13.53  14.24  28161400  14.24  13.550          13.550   \n",
       "2022-08-12  13.38  13.65  25300900  13.80  13.600          13.600   \n",
       "2022-09-12  13.42  13.52  18489800  13.66  13.530          13.530   \n",
       "2022-12-12  13.45  13.49   8048550  13.93  13.915          13.915   \n",
       "\n",
       "            CUMLOGRET_1  CUMPCTRET_1  \n",
       "Date                                  \n",
       "2022-06-12    -0.297750    -0.257513  \n",
       "2022-07-12    -0.353718    -0.297927  \n",
       "2022-08-12    -0.350035    -0.295337  \n",
       "2022-09-12    -0.355196    -0.298964  \n",
       "2022-12-12    -0.327138    -0.279016  "
      ]
     },
     "execution_count": 3,
     "metadata": {},
     "output_type": "execute_result"
    }
   ],
   "source": [
    "# VWAP requires the DataFrame index to be a DatetimeIndex.\n",
    "# Replace \"datetime\" with the appropriate column from your DataFrame\n",
    "df.set_index(pd.DatetimeIndex(df[\"Date\"]), inplace=True)\n",
    "\n",
    "# Drop the \"Date\" column if it's no longer needed\n",
    "df.drop(columns=[\"Date\"], inplace=True)\n",
    "\n",
    "# Calculate Returns and append to the df DataFrame\n",
    "# This automatically calculates the log return and percent return \n",
    "#  from the 'close' field in our dataset using the pandas-ta indicator\n",
    "df.ta.log_return(cumulative=True, append=True)\n",
    "df.ta.percent_return(cumulative=True, append=True)\n",
    "\n",
    "# New Columns with results\n",
    "df.columns\n",
    "\n",
    "# Take a peek\n",
    "df.tail()\n",
    "\n",
    "# vv Continue Post Processing vv"
   ]
  },
  {
   "cell_type": "code",
   "execution_count": 4,
   "id": "94854b01",
   "metadata": {},
   "outputs": [
    {
     "name": "stdout",
     "output_type": "stream",
     "text": [
      "Pandas TA - Technical Analysis Indicators - v0.3.14b0\n",
      "Total Indicators & Utilities: 205\n",
      "Abbreviations:\n",
      "    aberration, above, above_value, accbands, ad, adosc, adx, alma, amat, ao, aobv, apo, aroon, atr, bbands, below, below_value, bias, bop, brar, cci, cdl_pattern, cdl_z, cfo, cg, chop, cksp, cmf, cmo, coppock, cross, cross_value, cti, decay, decreasing, dema, dm, donchian, dpo, ebsw, efi, ema, entropy, eom, er, eri, fisher, fwma, ha, hilo, hl2, hlc3, hma, hwc, hwma, ichimoku, increasing, inertia, jma, kama, kc, kdj, kst, kurtosis, kvo, linreg, log_return, long_run, macd, mad, massi, mcgd, median, mfi, midpoint, midprice, mom, natr, nvi, obv, ohlc4, pdist, percent_return, pgo, ppo, psar, psl, pvi, pvo, pvol, pvr, pvt, pwma, qqe, qstick, quantile, rma, roc, rsi, rsx, rvgi, rvi, short_run, sinwma, skew, slope, sma, smi, squeeze, squeeze_pro, ssf, stc, stdev, stoch, stochrsi, supertrend, swma, t3, td_seq, tema, thermo, tos_stdevall, trima, trix, true_range, tsi, tsignals, ttm_trend, ui, uo, variance, vhf, vidya, vortex, vp, vwap, vwma, wcp, willr, wma, xsignals, zlma, zscore\n",
      "\n",
      "Candle Patterns:\n",
      "    2crows, 3blackcrows, 3inside, 3linestrike, 3outside, 3starsinsouth, 3whitesoldiers, abandonedbaby, advanceblock, belthold, breakaway, closingmarubozu, concealbabyswall, counterattack, darkcloudcover, doji, dojistar, dragonflydoji, engulfing, eveningdojistar, eveningstar, gapsidesidewhite, gravestonedoji, hammer, hangingman, harami, haramicross, highwave, hikkake, hikkakemod, homingpigeon, identical3crows, inneck, inside, invertedhammer, kicking, kickingbylength, ladderbottom, longleggeddoji, longline, marubozu, matchinglow, mathold, morningdojistar, morningstar, onneck, piercing, rickshawman, risefall3methods, separatinglines, shootingstar, shortline, spinningtop, stalledpattern, sticksandwich, takuri, tasukigap, thrusting, tristar, unique3river, upsidegap2crows, xsidegap3methods\n"
     ]
    }
   ],
   "source": [
    "# Help about this, 'ta', extension\n",
    "# help(df.ta)\n",
    "\n",
    "# List of all indicators\n",
    "df.ta.indicators()\n",
    "\n",
    "# # Help about an indicator such as bbands\n",
    "# help(ta.bbands)"
   ]
  },
  {
   "cell_type": "markdown",
   "id": "5f03a205",
   "metadata": {},
   "source": [
    "Pandas-ta offers 205 technical indicators. To enrich our dataset, we will use all of them as additional features.\n",
    "\n",
    "Pandas-ta offer pre-packed 'strategies' including a subset of indicators.\n",
    "\n",
    "Two popular one are\n",
    "- ta.CommonStrategy  (subset of the most commonly used)\n",
    "- ta.AllStrategy     (this includes all the indicators, usually used for feature generation)\n",
    "\n",
    "We will focus on ta.AllStrategy"
   ]
  },
  {
   "cell_type": "code",
   "execution_count": 5,
   "id": "5a6481eb",
   "metadata": {},
   "outputs": [
    {
     "name": "stdout",
     "output_type": "stream",
     "text": [
      "Dataset size: (4333, 8)\n"
     ]
    }
   ],
   "source": [
    "# print dataset size\n",
    "print(\"Dataset size:\", df.shape)"
   ]
  },
  {
   "cell_type": "code",
   "execution_count": null,
   "id": "abe52b2a",
   "metadata": {},
   "outputs": [
    {
     "name": "stdout",
     "output_type": "stream",
     "text": [
      "Common Strategy\n",
      "Strategy(name='Common Price and Volume SMAs', ta=[{'kind': 'sma', 'length': 10}, {'kind': 'sma', 'length': 20}, {'kind': 'sma', 'length': 50}, {'kind': 'sma', 'length': 200}, {'kind': 'sma', 'close': 'volume', 'length': 20, 'prefix': 'VOL'}], description='Common Price SMAs: 10, 20, 50, 200 and Volume SMA: 20.', created='Monday May 12, 2025, NYSE: 12:19:54, Local: 16:19:54 W. Europe Summer Time, Day 132/365 (36.00%)')\n",
      "{'kind': 'sma', 'length': 10}\n",
      "{'kind': 'sma', 'length': 20}\n",
      "{'kind': 'sma', 'length': 50}\n",
      "{'kind': 'sma', 'length': 200}\n",
      "{'kind': 'sma', 'close': 'volume', 'length': 20, 'prefix': 'VOL'}\n",
      "All Strategy\n",
      "Strategy(name='All', ta=None, description='All the indicators with their default settings. Pandas TA default.', created='Monday May 12, 2025, NYSE: 12:19:54, Local: 16:19:54 W. Europe Summer Time, Day 132/365 (36.00%)')\n",
      "[+] Strategy: All\n",
      "[i] Indicator arguments: {'calculate': True, 'chunks': 4, 'processors': 4, 'append': True}\n",
      "[i] Excluded[12]: above, above_value, below, below_value, cross, cross_value, long_run, short_run, td_seq, tsignals, vp, xsignals\n",
      "[i] Multiprocessing 131 indicators with 3 chunks and 16/16 cpus.\n"
     ]
    }
   ],
   "source": [
    "# Common Strategy\n",
    "print(\"Common Strategy\")\n",
    "print(ta.CommonStrategy)\n",
    "\n",
    "for indicator in ta.CommonStrategy.ta:\n",
    "    print(indicator)\n",
    "\n",
    "\n",
    "# All Strategy\n",
    "print(\"All Strategy\")\n",
    "print(ta.AllStrategy)\n",
    "# While common strategy is a defined subset of all indicators, \n",
    "#  all strategy dinamically generates a list of all indicators from the current list\n",
    "#  It is a special command\n",
    "\n",
    "# for indicator in ta.AllStrategy.ta:\n",
    "df.ta.strategy(\n",
    "    ta.AllStrategy,\n",
    "    calculate=True,\n",
    "    verbose=True,\n",
    "    chunks=4,        # 4 batches\n",
    "    processors=4     # 4 workers\n",
    ")"
   ]
  },
  {
   "cell_type": "markdown",
   "id": "2dc7cc8a",
   "metadata": {},
   "source": [
    "TODO: The strategy calculation is increadibly slow find a way to speed it up or select a small subset"
   ]
  },
  {
   "cell_type": "code",
   "execution_count": null,
   "id": "3a2bd852",
   "metadata": {},
   "outputs": [],
   "source": [
    "# Add indicators to the DataFrame"
   ]
  },
  {
   "cell_type": "code",
   "execution_count": null,
   "id": "01848916",
   "metadata": {},
   "outputs": [
    {
     "name": "stdout",
     "output_type": "stream",
     "text": [
      "[+] Strategy: Common Price and Volume SMAs\n",
      "[i] Indicator arguments: {'calculate': True, 'append': True}\n",
      "[i] Multiprocessing 5 indicators with 15 chunks and 16/16 cpus.\n"
     ]
    }
   ],
   "source": [
    "# Calculate the Common Strategy indicators and print the top of the DataFrame\n",
    "\n",
    "# Apply the CommonStrategy to the DataFrame\n",
    "df.ta.strategy(\n",
    "    ta.CommonStrategy,\n",
    "    calculate=True,\n",
    "    verbose=True\n",
    ")\n",
    "\n",
    "# Print the first 5 rows to check the new columns\n",
    "print(df.head())"
   ]
  },
  {
   "cell_type": "code",
   "execution_count": null,
   "id": "818b4573",
   "metadata": {},
   "outputs": [],
   "source": []
  },
  {
   "cell_type": "code",
   "execution_count": null,
   "id": "4349e6bd",
   "metadata": {},
   "outputs": [],
   "source": []
  },
  {
   "cell_type": "code",
   "execution_count": null,
   "id": "78b50fe7",
   "metadata": {},
   "outputs": [],
   "source": []
  }
 ],
 "metadata": {
  "kernelspec": {
   "display_name": "basic_conda",
   "language": "python",
   "name": "python3"
  },
  "language_info": {
   "codemirror_mode": {
    "name": "ipython",
    "version": 3
   },
   "file_extension": ".py",
   "mimetype": "text/x-python",
   "name": "python",
   "nbconvert_exporter": "python",
   "pygments_lexer": "ipython3",
   "version": "3.11.11"
  }
 },
 "nbformat": 4,
 "nbformat_minor": 5
}
